{
 "cells": [
  {
   "cell_type": "code",
   "execution_count": 1,
   "metadata": {},
   "outputs": [],
   "source": [
    "import pickle\n",
    "import pandas as pd\n",
    "import numpy as np"
   ]
  },
  {
   "cell_type": "code",
   "execution_count": 2,
   "metadata": {},
   "outputs": [],
   "source": [
    "with open('sgns.renmin.bigram',encoding='utf-8') as q:\n",
    "    lines = q.readlines()"
   ]
  },
  {
   "cell_type": "code",
   "execution_count": 3,
   "metadata": {},
   "outputs": [],
   "source": [
    "lines = lines[1:]"
   ]
  },
  {
   "cell_type": "code",
   "execution_count": 4,
   "metadata": {},
   "outputs": [],
   "source": [
    "for idx in range(len(lines)):\n",
    "    lines[idx] = lines[idx][0:-2]"
   ]
  },
  {
   "cell_type": "code",
   "execution_count": null,
   "metadata": {},
   "outputs": [],
   "source": [
    "idx = 1\n",
    "word2idx_big = dict()\n",
    "idx2word_big = dict()\n",
    "word2idx_big['<UNK>'] = 0\n",
    "idx2word_big[0] = '<UNK>'\n",
    "embedding_big = [[0]*300]\n",
    "for _ in lines:\n",
    "    __ = _.split()\n",
    "    word2idx_big[__[0]] = idx\n",
    "    idx2word_big[idx] = __[0]\n",
    "    embed = np.float32(__[1:])\n",
    "    embedding_big.append(embed)\n",
    "    idx += 1"
   ]
  },
  {
   "cell_type": "code",
   "execution_count": 6,
   "metadata": {},
   "outputs": [
    {
     "data": {
      "text/plain": [
       "52842"
      ]
     },
     "execution_count": 6,
     "metadata": {},
     "output_type": "execute_result"
    }
   ],
   "source": [
    "word2idx_big['1907']"
   ]
  },
  {
   "cell_type": "code",
   "execution_count": 7,
   "metadata": {},
   "outputs": [],
   "source": [
    "embedding_big = np.array(embedding_big)"
   ]
  },
  {
   "cell_type": "code",
   "execution_count": 8,
   "metadata": {},
   "outputs": [],
   "source": [
    "with open('word2idx_big.pkl','wb') as f:\n",
    "    pickle.dump(word2idx_big,f)\n",
    "\n",
    "with open('idx2word_big.pkl','wb') as f:\n",
    "    pickle.dump(idx2word_big,f)\n",
    "\n",
    "with open('embedding_big.pkl','wb') as f:\n",
    "    pickle.dump(embedding_big,f)"
   ]
  }
 ],
 "metadata": {
  "interpreter": {
   "hash": "0b44c525ca95e5dbf893da2282eb3ec3f420cb9fa59d94f9af90ca833dc1a37c"
  },
  "kernelspec": {
   "display_name": "Python 3.9.7 64-bit ('pytorch': conda)",
   "language": "python",
   "name": "python3"
  },
  "language_info": {
   "codemirror_mode": {
    "name": "ipython",
    "version": 3
   },
   "file_extension": ".py",
   "mimetype": "text/x-python",
   "name": "python",
   "nbconvert_exporter": "python",
   "pygments_lexer": "ipython3",
   "version": "3.9.7"
  },
  "orig_nbformat": 4
 },
 "nbformat": 4,
 "nbformat_minor": 2
}
