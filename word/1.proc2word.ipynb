{
 "cells": [
  {
   "cell_type": "code",
   "execution_count": 46,
   "metadata": {},
   "outputs": [],
   "source": [
    "import numpy as np\n",
    "import pandas as pd\n",
    "import seaborn as sns\n",
    "import warnings \n",
    "import jieba\n",
    "warnings.filterwarnings('ignore')"
   ]
  },
  {
   "cell_type": "code",
   "execution_count": 47,
   "metadata": {},
   "outputs": [],
   "source": [
    "with open('news_classify_data.txt','r',encoding='utf-8') as f:\n",
    "    txt = f.readlines()\n",
    "f.close()"
   ]
  },
  {
   "cell_type": "code",
   "execution_count": 48,
   "metadata": {},
   "outputs": [],
   "source": [
    "text = np.array([_.split('_!_') for _ in txt])"
   ]
  },
  {
   "cell_type": "code",
   "execution_count": 49,
   "metadata": {},
   "outputs": [],
   "source": [
    "text[0][0] = '6660024717287621123'"
   ]
  },
  {
   "cell_type": "code",
   "execution_count": 50,
   "metadata": {},
   "outputs": [],
   "source": [
    "text[:,1] = [int(_) for _ in text[:,1]]\n",
    "text[:,0] = [int(_) for _ in text[:,0]]"
   ]
  },
  {
   "cell_type": "code",
   "execution_count": 51,
   "metadata": {},
   "outputs": [],
   "source": [
    "df = pd.DataFrame(text,columns = ['id','class','name','text'])"
   ]
  },
  {
   "cell_type": "code",
   "execution_count": 52,
   "metadata": {},
   "outputs": [],
   "source": [
    "stop_word_f = open('ChineseStopWords.txt',encoding='utf-8')\n",
    "lines = stop_word_f.readlines()\n",
    "stop_word_f.close()"
   ]
  },
  {
   "cell_type": "code",
   "execution_count": 53,
   "metadata": {},
   "outputs": [],
   "source": [
    "stop_list = [_[:-1] for _ in lines]"
   ]
  },
  {
   "cell_type": "code",
   "execution_count": 54,
   "metadata": {},
   "outputs": [
    {
     "data": {
      "text/plain": [
       "'老祖宗俗语：“万恶淫为首”，下一句更是精华，却没几个人能做到\\n'"
      ]
     },
     "execution_count": 54,
     "metadata": {},
     "output_type": "execute_result"
    }
   ],
   "source": [
    "df['text'][0]"
   ]
  },
  {
   "cell_type": "code",
   "execution_count": 55,
   "metadata": {},
   "outputs": [],
   "source": [
    "def dict_proc(data):\n",
    "    data['text'] = pd.Series(' '.join(jieba.cut(_[:-1],HMM=True)) for _ in data['text'])\n",
    "    return data"
   ]
  },
  {
   "cell_type": "code",
   "execution_count": 56,
   "metadata": {},
   "outputs": [],
   "source": [
    "df = dict_proc(df)"
   ]
  },
  {
   "cell_type": "code",
   "execution_count": 57,
   "metadata": {},
   "outputs": [
    {
     "data": {
      "text/html": [
       "<div>\n",
       "<style scoped>\n",
       "    .dataframe tbody tr th:only-of-type {\n",
       "        vertical-align: middle;\n",
       "    }\n",
       "\n",
       "    .dataframe tbody tr th {\n",
       "        vertical-align: top;\n",
       "    }\n",
       "\n",
       "    .dataframe thead th {\n",
       "        text-align: right;\n",
       "    }\n",
       "</style>\n",
       "<table border=\"1\" class=\"dataframe\">\n",
       "  <thead>\n",
       "    <tr style=\"text-align: right;\">\n",
       "      <th></th>\n",
       "      <th>id</th>\n",
       "      <th>class</th>\n",
       "      <th>name</th>\n",
       "      <th>text</th>\n",
       "    </tr>\n",
       "  </thead>\n",
       "  <tbody>\n",
       "    <tr>\n",
       "      <th>0</th>\n",
       "      <td>6660024717287621123</td>\n",
       "      <td>0</td>\n",
       "      <td>文化</td>\n",
       "      <td>老祖宗 俗语 ： “ 万恶 淫 为首 ” ， 下 一句 更是 精华 ， 却 没 几个 人能 做到</td>\n",
       "    </tr>\n",
       "    <tr>\n",
       "      <th>1</th>\n",
       "      <td>6675222202004013572</td>\n",
       "      <td>0</td>\n",
       "      <td>文化</td>\n",
       "      <td>老照片 ： 1907 年 ， 山东省 泰安 府</td>\n",
       "    </tr>\n",
       "    <tr>\n",
       "      <th>2</th>\n",
       "      <td>6679940295825555980</td>\n",
       "      <td>0</td>\n",
       "      <td>文化</td>\n",
       "      <td>亦 舒 经典语录 100 句</td>\n",
       "    </tr>\n",
       "    <tr>\n",
       "      <th>3</th>\n",
       "      <td>6676963806968545799</td>\n",
       "      <td>0</td>\n",
       "      <td>文化</td>\n",
       "      <td>乐山 大佛 整修 完成 ， 花脸 被 清洗 干净 ， 网友 ： 美 完容变 “ 帅 ” 了</td>\n",
       "    </tr>\n",
       "    <tr>\n",
       "      <th>4</th>\n",
       "      <td>6664825683656573448</td>\n",
       "      <td>0</td>\n",
       "      <td>文化</td>\n",
       "      <td>7000 年前 的 女子 ， 正值 花样年华 ， 为何 遭受 到 此 残忍 的 对待 ？</td>\n",
       "    </tr>\n",
       "    <tr>\n",
       "      <th>...</th>\n",
       "      <td>...</td>\n",
       "      <td>...</td>\n",
       "      <td>...</td>\n",
       "      <td>...</td>\n",
       "    </tr>\n",
       "    <tr>\n",
       "      <th>56816</th>\n",
       "      <td>6691485644243337735</td>\n",
       "      <td>8</td>\n",
       "      <td>国际</td>\n",
       "      <td>外媒 ： 苏丹 军队 开枪 驱散 示威者 致 9 伤 ， 军方 和 抗议者 互相 指责</td>\n",
       "    </tr>\n",
       "    <tr>\n",
       "      <th>56817</th>\n",
       "      <td>6691479002646839822</td>\n",
       "      <td>8</td>\n",
       "      <td>国际</td>\n",
       "      <td>特朗普 说 中国 经济 不好 ， 外交部 ： 他们 是 中国 经济 主管部门 ？</td>\n",
       "    </tr>\n",
       "    <tr>\n",
       "      <th>56818</th>\n",
       "      <td>6691483762988941835</td>\n",
       "      <td>8</td>\n",
       "      <td>国际</td>\n",
       "      <td>美伊 局势 升级 ， 美国会 要求 白宫 作出 解释</td>\n",
       "    </tr>\n",
       "    <tr>\n",
       "      <th>56819</th>\n",
       "      <td>6691481494600286727</td>\n",
       "      <td>8</td>\n",
       "      <td>国际</td>\n",
       "      <td>中国 女 留学生 在 澳 失踪 9 个 月 ， 警方 再次 呼吁 公众 协助 寻人</td>\n",
       "    </tr>\n",
       "    <tr>\n",
       "      <th>56820</th>\n",
       "      <td>6691480635921400323</td>\n",
       "      <td>8</td>\n",
       "      <td>国际</td>\n",
       "      <td>只要 自带 桌子 来店 就 免单 ！ 你 是 英国 这家 餐厅 的 目标 用户 吗 ？</td>\n",
       "    </tr>\n",
       "  </tbody>\n",
       "</table>\n",
       "<p>56821 rows × 4 columns</p>\n",
       "</div>"
      ],
      "text/plain": [
       "                        id class name  \\\n",
       "0      6660024717287621123     0   文化   \n",
       "1      6675222202004013572     0   文化   \n",
       "2      6679940295825555980     0   文化   \n",
       "3      6676963806968545799     0   文化   \n",
       "4      6664825683656573448     0   文化   \n",
       "...                    ...   ...  ...   \n",
       "56816  6691485644243337735     8   国际   \n",
       "56817  6691479002646839822     8   国际   \n",
       "56818  6691483762988941835     8   国际   \n",
       "56819  6691481494600286727     8   国际   \n",
       "56820  6691480635921400323     8   国际   \n",
       "\n",
       "                                                   text  \n",
       "0      老祖宗 俗语 ： “ 万恶 淫 为首 ” ， 下 一句 更是 精华 ， 却 没 几个 人能 做到  \n",
       "1                               老照片 ： 1907 年 ， 山东省 泰安 府  \n",
       "2                                        亦 舒 经典语录 100 句  \n",
       "3         乐山 大佛 整修 完成 ， 花脸 被 清洗 干净 ， 网友 ： 美 完容变 “ 帅 ” 了  \n",
       "4          7000 年前 的 女子 ， 正值 花样年华 ， 为何 遭受 到 此 残忍 的 对待 ？  \n",
       "...                                                 ...  \n",
       "56816       外媒 ： 苏丹 军队 开枪 驱散 示威者 致 9 伤 ， 军方 和 抗议者 互相 指责  \n",
       "56817          特朗普 说 中国 经济 不好 ， 外交部 ： 他们 是 中国 经济 主管部门 ？  \n",
       "56818                        美伊 局势 升级 ， 美国会 要求 白宫 作出 解释  \n",
       "56819         中国 女 留学生 在 澳 失踪 9 个 月 ， 警方 再次 呼吁 公众 协助 寻人  \n",
       "56820       只要 自带 桌子 来店 就 免单 ！ 你 是 英国 这家 餐厅 的 目标 用户 吗 ？  \n",
       "\n",
       "[56821 rows x 4 columns]"
      ]
     },
     "execution_count": 57,
     "metadata": {},
     "output_type": "execute_result"
    }
   ],
   "source": [
    "df"
   ]
  },
  {
   "cell_type": "code",
   "execution_count": 58,
   "metadata": {},
   "outputs": [],
   "source": [
    "def str2list(data,stop_list):\n",
    "    for idx in range(len(data['text'])):\n",
    "        word_list = []\n",
    "        for word in data['text'][idx].split():\n",
    "            if word not in stop_list:\n",
    "                word_list.append(word)\n",
    "        data['text'][idx] = word_list\n",
    "    return data"
   ]
  },
  {
   "cell_type": "code",
   "execution_count": 59,
   "metadata": {},
   "outputs": [],
   "source": [
    "df = str2list(df,stop_list)"
   ]
  },
  {
   "cell_type": "code",
   "execution_count": 60,
   "metadata": {},
   "outputs": [
    {
     "data": {
      "text/html": [
       "<div>\n",
       "<style scoped>\n",
       "    .dataframe tbody tr th:only-of-type {\n",
       "        vertical-align: middle;\n",
       "    }\n",
       "\n",
       "    .dataframe tbody tr th {\n",
       "        vertical-align: top;\n",
       "    }\n",
       "\n",
       "    .dataframe thead th {\n",
       "        text-align: right;\n",
       "    }\n",
       "</style>\n",
       "<table border=\"1\" class=\"dataframe\">\n",
       "  <thead>\n",
       "    <tr style=\"text-align: right;\">\n",
       "      <th></th>\n",
       "      <th>id</th>\n",
       "      <th>class</th>\n",
       "      <th>name</th>\n",
       "      <th>text</th>\n",
       "    </tr>\n",
       "  </thead>\n",
       "  <tbody>\n",
       "    <tr>\n",
       "      <th>0</th>\n",
       "      <td>6660024717287621123</td>\n",
       "      <td>0</td>\n",
       "      <td>文化</td>\n",
       "      <td>[老祖宗, 俗语, 万恶, 淫, 为首, 一句, 更是, 精华, 没, 几个, 人能]</td>\n",
       "    </tr>\n",
       "    <tr>\n",
       "      <th>1</th>\n",
       "      <td>6675222202004013572</td>\n",
       "      <td>0</td>\n",
       "      <td>文化</td>\n",
       "      <td>[老照片, 1907, 年, 山东省, 泰安, 府]</td>\n",
       "    </tr>\n",
       "    <tr>\n",
       "      <th>2</th>\n",
       "      <td>6679940295825555980</td>\n",
       "      <td>0</td>\n",
       "      <td>文化</td>\n",
       "      <td>[舒, 经典语录, 100, 句]</td>\n",
       "    </tr>\n",
       "    <tr>\n",
       "      <th>3</th>\n",
       "      <td>6676963806968545799</td>\n",
       "      <td>0</td>\n",
       "      <td>文化</td>\n",
       "      <td>[乐山, 大佛, 整修, 花脸, 清洗, 干净, 网友, 美, 完容变, 帅]</td>\n",
       "    </tr>\n",
       "    <tr>\n",
       "      <th>4</th>\n",
       "      <td>6664825683656573448</td>\n",
       "      <td>0</td>\n",
       "      <td>文化</td>\n",
       "      <td>[7000, 年前, 女子, 花样年华, 遭受, 残忍]</td>\n",
       "    </tr>\n",
       "    <tr>\n",
       "      <th>...</th>\n",
       "      <td>...</td>\n",
       "      <td>...</td>\n",
       "      <td>...</td>\n",
       "      <td>...</td>\n",
       "    </tr>\n",
       "    <tr>\n",
       "      <th>56816</th>\n",
       "      <td>6691485644243337735</td>\n",
       "      <td>8</td>\n",
       "      <td>国际</td>\n",
       "      <td>[外媒, 苏丹, 军队, 开枪, 驱散, 示威者, 伤, 军方, 抗议者, 指责]</td>\n",
       "    </tr>\n",
       "    <tr>\n",
       "      <th>56817</th>\n",
       "      <td>6691479002646839822</td>\n",
       "      <td>8</td>\n",
       "      <td>国际</td>\n",
       "      <td>[特朗普, 说, 中国, 经济, 不好, 外交部, 中国, 经济, 主管部门]</td>\n",
       "    </tr>\n",
       "    <tr>\n",
       "      <th>56818</th>\n",
       "      <td>6691483762988941835</td>\n",
       "      <td>8</td>\n",
       "      <td>国际</td>\n",
       "      <td>[美伊, 局势, 升级, 美国会, 白宫, 作出, 解释]</td>\n",
       "    </tr>\n",
       "    <tr>\n",
       "      <th>56819</th>\n",
       "      <td>6691481494600286727</td>\n",
       "      <td>8</td>\n",
       "      <td>国际</td>\n",
       "      <td>[中国, 女, 留学生, 澳, 失踪, 月, 警方, 呼吁, 公众, 协助, 寻人]</td>\n",
       "    </tr>\n",
       "    <tr>\n",
       "      <th>56820</th>\n",
       "      <td>6691480635921400323</td>\n",
       "      <td>8</td>\n",
       "      <td>国际</td>\n",
       "      <td>[自带, 桌子, 来店, 免单, 英国, 这家, 餐厅, 目标, 用户]</td>\n",
       "    </tr>\n",
       "  </tbody>\n",
       "</table>\n",
       "<p>56821 rows × 4 columns</p>\n",
       "</div>"
      ],
      "text/plain": [
       "                        id class name  \\\n",
       "0      6660024717287621123     0   文化   \n",
       "1      6675222202004013572     0   文化   \n",
       "2      6679940295825555980     0   文化   \n",
       "3      6676963806968545799     0   文化   \n",
       "4      6664825683656573448     0   文化   \n",
       "...                    ...   ...  ...   \n",
       "56816  6691485644243337735     8   国际   \n",
       "56817  6691479002646839822     8   国际   \n",
       "56818  6691483762988941835     8   国际   \n",
       "56819  6691481494600286727     8   国际   \n",
       "56820  6691480635921400323     8   国际   \n",
       "\n",
       "                                              text  \n",
       "0      [老祖宗, 俗语, 万恶, 淫, 为首, 一句, 更是, 精华, 没, 几个, 人能]  \n",
       "1                       [老照片, 1907, 年, 山东省, 泰安, 府]  \n",
       "2                                [舒, 经典语录, 100, 句]  \n",
       "3          [乐山, 大佛, 整修, 花脸, 清洗, 干净, 网友, 美, 完容变, 帅]  \n",
       "4                     [7000, 年前, 女子, 花样年华, 遭受, 残忍]  \n",
       "...                                            ...  \n",
       "56816    [外媒, 苏丹, 军队, 开枪, 驱散, 示威者, 伤, 军方, 抗议者, 指责]  \n",
       "56817      [特朗普, 说, 中国, 经济, 不好, 外交部, 中国, 经济, 主管部门]  \n",
       "56818                [美伊, 局势, 升级, 美国会, 白宫, 作出, 解释]  \n",
       "56819   [中国, 女, 留学生, 澳, 失踪, 月, 警方, 呼吁, 公众, 协助, 寻人]  \n",
       "56820         [自带, 桌子, 来店, 免单, 英国, 这家, 餐厅, 目标, 用户]  \n",
       "\n",
       "[56821 rows x 4 columns]"
      ]
     },
     "execution_count": 60,
     "metadata": {},
     "output_type": "execute_result"
    }
   ],
   "source": [
    "df"
   ]
  },
  {
   "cell_type": "code",
   "execution_count": 61,
   "metadata": {},
   "outputs": [
    {
     "data": {
      "text/plain": [
       "<AxesSubplot:xlabel='class', ylabel='count'>"
      ]
     },
     "execution_count": 61,
     "metadata": {},
     "output_type": "execute_result"
    },
    {
     "data": {
      "image/png": "[encoded data removed]",
      "text/plain": [
       "<Figure size 432x288 with 1 Axes>"
      ]
     },
     "metadata": {
      "needs_background": "light"
     },
     "output_type": "display_data"
    }
   ],
   "source": [
    "sns.countplot(df['class'], palette='Set1')"
   ]
  },
  {
   "cell_type": "code",
   "execution_count": 62,
   "metadata": {},
   "outputs": [],
   "source": [
    "def wordFreqCount(data):\n",
    "    word2idx = dict()\n",
    "    idx2word = dict()\n",
    "    word_freq = dict()\n",
    "    word2idx['<EOS>'] = 0\n",
    "    idx2word[0] = '<EOS>' \n",
    "    word2idx['<UNK>'] = 1\n",
    "    idx2word[1] = '<UNK>' \n",
    "    word2idx['<Paddling>'] = 2\n",
    "    idx2word[2] = '<Paddling>'\n",
    "    word_freq['<Paddling>'] = 1\n",
    "    word_freq['<UNK>'] = 1\n",
    "    word_freq['<EOS>'] = 1\n",
    "    for words in data:\n",
    "        for i in words:\n",
    "            word_freq[i] = word_freq.get(i,0) + 1\n",
    "    return word2idx,idx2word,word_freq"
   ]
  },
  {
   "cell_type": "code",
   "execution_count": 63,
   "metadata": {},
   "outputs": [],
   "source": [
    "word2idx,idx2word,word_freq = wordFreqCount(df['text'])"
   ]
  },
  {
   "cell_type": "code",
   "execution_count": 64,
   "metadata": {},
   "outputs": [
    {
     "data": {
      "text/plain": [
       "['老祖宗', '俗语', '万恶', '淫', '为首', '一句', '更是', '精华', '没', '几个', '人能']"
      ]
     },
     "execution_count": 64,
     "metadata": {},
     "output_type": "execute_result"
    }
   ],
   "source": [
    "df['text'][0]"
   ]
  },
  {
   "cell_type": "code",
   "execution_count": 65,
   "metadata": {},
   "outputs": [],
   "source": [
    "import pickle\n",
    "with open('word2idx.pkl','rb') as f:\n",
    "    word2idx_big = pickle.load(f)\n",
    "with open('idx2word.pkl','rb') as f:\n",
    "    idx2word_big = pickle.load(f)"
   ]
  },
  {
   "cell_type": "code",
   "execution_count": 66,
   "metadata": {},
   "outputs": [],
   "source": [
    "word_freq = dict(sorted(word_freq.items(),key = lambda x:x[1],reverse=True))"
   ]
  },
  {
   "cell_type": "code",
   "execution_count": 67,
   "metadata": {},
   "outputs": [],
   "source": [
    "def worddictProc(word2idx,idx2word,word_freq,min_count = 2,max_count = 2000):\n",
    "    idx = 3\n",
    "    for _,(word,count) in enumerate(word_freq.items()):\n",
    "        if min_count <= count <= max_count:\n",
    "            word2idx[word] = idx\n",
    "            idx2word[idx] = word\n",
    "            idx += 1\n",
    "    return word2idx,idx2word"
   ]
  },
  {
   "cell_type": "code",
   "execution_count": 68,
   "metadata": {},
   "outputs": [],
   "source": [
    "for _ in idx2word.values():\n",
    "    if _ not in word2idx.keys():\n",
    "        print(_)"
   ]
  },
  {
   "cell_type": "code",
   "execution_count": 69,
   "metadata": {},
   "outputs": [],
   "source": [
    "word2idx,idx2word = worddictProc(word2idx,idx2word,word_freq)"
   ]
  },
  {
   "cell_type": "code",
   "execution_count": 70,
   "metadata": {},
   "outputs": [
    {
     "data": {
      "text/plain": [
       "1"
      ]
     },
     "execution_count": 70,
     "metadata": {},
     "output_type": "execute_result"
    }
   ],
   "source": [
    "word2idx_big['<UNK>']"
   ]
  },
  {
   "cell_type": "code",
   "execution_count": 71,
   "metadata": {},
   "outputs": [],
   "source": [
    "def seq2list(data,word2idx=word2idx):\n",
    "    for index in range(len(data)):\n",
    "        word_list = []\n",
    "        word = data[index]\n",
    "        for i in word:\n",
    "            if i in word2idx.keys():\n",
    "                word_list.append(word2idx[i])\n",
    "            else:\n",
    "                word_list.append(word2idx['<UNK>'])\n",
    "        data[index] = word_list\n",
    "    return data"
   ]
  },
  {
   "cell_type": "code",
   "execution_count": 72,
   "metadata": {},
   "outputs": [],
   "source": [
    "df['text'] = seq2list(df['text'])"
   ]
  },
  {
   "cell_type": "code",
   "execution_count": 73,
   "metadata": {},
   "outputs": [
    {
     "data": {
      "text/html": [
       "<div>\n",
       "<style scoped>\n",
       "    .dataframe tbody tr th:only-of-type {\n",
       "        vertical-align: middle;\n",
       "    }\n",
       "\n",
       "    .dataframe tbody tr th {\n",
       "        vertical-align: top;\n",
       "    }\n",
       "\n",
       "    .dataframe thead th {\n",
       "        text-align: right;\n",
       "    }\n",
       "</style>\n",
       "<table border=\"1\" class=\"dataframe\">\n",
       "  <thead>\n",
       "    <tr style=\"text-align: right;\">\n",
       "      <th></th>\n",
       "      <th>id</th>\n",
       "      <th>class</th>\n",
       "      <th>name</th>\n",
       "      <th>text</th>\n",
       "    </tr>\n",
       "  </thead>\n",
       "  <tbody>\n",
       "    <tr>\n",
       "      <th>0</th>\n",
       "      <td>6660024717287621123</td>\n",
       "      <td>0</td>\n",
       "      <td>文化</td>\n",
       "      <td>[8654, 5638, 24533, 35049, 19133, 1228, 3987, ...</td>\n",
       "    </tr>\n",
       "    <tr>\n",
       "      <th>1</th>\n",
       "      <td>6675222202004013572</td>\n",
       "      <td>0</td>\n",
       "      <td>文化</td>\n",
       "      <td>[4176, 35050, 4, 1516, 2247, 7357]</td>\n",
       "    </tr>\n",
       "    <tr>\n",
       "      <th>2</th>\n",
       "      <td>6679940295825555980</td>\n",
       "      <td>0</td>\n",
       "      <td>文化</td>\n",
       "      <td>[11755, 35051, 150, 3115]</td>\n",
       "    </tr>\n",
       "    <tr>\n",
       "      <th>3</th>\n",
       "      <td>6676963806968545799</td>\n",
       "      <td>0</td>\n",
       "      <td>文化</td>\n",
       "      <td>[24534, 35052, 35053, 24535, 3209, 4357, 67, 7...</td>\n",
       "    </tr>\n",
       "    <tr>\n",
       "      <th>4</th>\n",
       "      <td>6664825683656573448</td>\n",
       "      <td>0</td>\n",
       "      <td>文化</td>\n",
       "      <td>[5639, 608, 97, 19134, 10539, 9499]</td>\n",
       "    </tr>\n",
       "    <tr>\n",
       "      <th>...</th>\n",
       "      <td>...</td>\n",
       "      <td>...</td>\n",
       "      <td>...</td>\n",
       "      <td>...</td>\n",
       "    </tr>\n",
       "    <tr>\n",
       "      <th>56816</th>\n",
       "      <td>6691485644243337735</td>\n",
       "      <td>8</td>\n",
       "      <td>国际</td>\n",
       "      <td>[1823, 5592, 2783, 17586, 69269, 30242, 3744, ...</td>\n",
       "    </tr>\n",
       "    <tr>\n",
       "      <th>56817</th>\n",
       "      <td>6691479002646839822</td>\n",
       "      <td>8</td>\n",
       "      <td>国际</td>\n",
       "      <td>[214, 31, 3, 49, 1367, 981, 3, 49, 10587]</td>\n",
       "    </tr>\n",
       "    <tr>\n",
       "      <th>56818</th>\n",
       "      <td>6691483762988941835</td>\n",
       "      <td>8</td>\n",
       "      <td>国际</td>\n",
       "      <td>[3417, 5090, 173, 23391, 7512, 4667, 1976]</td>\n",
       "    </tr>\n",
       "    <tr>\n",
       "      <th>56819</th>\n",
       "      <td>6691481494600286727</td>\n",
       "      <td>8</td>\n",
       "      <td>国际</td>\n",
       "      <td>[3, 192, 2033, 2999, 3595, 5, 974, 2172, 1646,...</td>\n",
       "    </tr>\n",
       "    <tr>\n",
       "      <th>56820</th>\n",
       "      <td>6691480635921400323</td>\n",
       "      <td>8</td>\n",
       "      <td>国际</td>\n",
       "      <td>[3213, 9677, 25768, 69270, 229, 890, 1923, 114...</td>\n",
       "    </tr>\n",
       "  </tbody>\n",
       "</table>\n",
       "<p>56821 rows × 4 columns</p>\n",
       "</div>"
      ],
      "text/plain": [
       "                        id class name  \\\n",
       "0      6660024717287621123     0   文化   \n",
       "1      6675222202004013572     0   文化   \n",
       "2      6679940295825555980     0   文化   \n",
       "3      6676963806968545799     0   文化   \n",
       "4      6664825683656573448     0   文化   \n",
       "...                    ...   ...  ...   \n",
       "56816  6691485644243337735     8   国际   \n",
       "56817  6691479002646839822     8   国际   \n",
       "56818  6691483762988941835     8   国际   \n",
       "56819  6691481494600286727     8   国际   \n",
       "56820  6691480635921400323     8   国际   \n",
       "\n",
       "                                                    text  \n",
       "0      [8654, 5638, 24533, 35049, 19133, 1228, 3987, ...  \n",
       "1                     [4176, 35050, 4, 1516, 2247, 7357]  \n",
       "2                              [11755, 35051, 150, 3115]  \n",
       "3      [24534, 35052, 35053, 24535, 3209, 4357, 67, 7...  \n",
       "4                    [5639, 608, 97, 19134, 10539, 9499]  \n",
       "...                                                  ...  \n",
       "56816  [1823, 5592, 2783, 17586, 69269, 30242, 3744, ...  \n",
       "56817          [214, 31, 3, 49, 1367, 981, 3, 49, 10587]  \n",
       "56818         [3417, 5090, 173, 23391, 7512, 4667, 1976]  \n",
       "56819  [3, 192, 2033, 2999, 3595, 5, 974, 2172, 1646,...  \n",
       "56820  [3213, 9677, 25768, 69270, 229, 890, 1923, 114...  \n",
       "\n",
       "[56821 rows x 4 columns]"
      ]
     },
     "execution_count": 73,
     "metadata": {},
     "output_type": "execute_result"
    }
   ],
   "source": [
    "df"
   ]
  },
  {
   "cell_type": "code",
   "execution_count": 28,
   "metadata": {},
   "outputs": [
    {
     "data": {
      "text/plain": [
       "<torch._C.Generator at 0x27c1108faf0>"
      ]
     },
     "execution_count": 28,
     "metadata": {},
     "output_type": "execute_result"
    }
   ],
   "source": [
    "import torch\n",
    "import random\n",
    "import torch.nn as nn\n",
    "\n",
    "random.seed(1224)\n",
    "np.random.seed(1224)\n",
    "torch.manual_seed(1224)"
   ]
  },
  {
   "cell_type": "code",
   "execution_count": 29,
   "metadata": {},
   "outputs": [],
   "source": [
    "class WordDataset(torch.utils.data.Dataset):\n",
    "    def __init__(self,input_labels,pos_labels,neg_labels):\n",
    "        super(WordDataset,self).__init__()\n",
    "        self.input_labels = input_labels\n",
    "        self.pos_labels = pos_labels\n",
    "        self.neg_labels = neg_labels\n",
    "\n",
    "    def __getitem__(self,index):\n",
    "        return self.input_labels[index],self.pos_labels[index],self.neg_labels[index]\n",
    "        \n",
    "    def __len__(self):\n",
    "        return len(self.input_labels)"
   ]
  },
  {
   "cell_type": "code",
   "execution_count": 30,
   "metadata": {},
   "outputs": [],
   "source": [
    "WINDOW_SIZE = 2\n",
    "def getPosSample(sentences,word_freq=word_freq):\n",
    "    input_labels = []\n",
    "    pos_labels = []\n",
    "    neg_labels = []\n",
    "    for sentence in sentences:\n",
    "        for idx in range(len(sentence)):\n",
    "            _ = []\n",
    "            input_labels.append(sentence[idx])\n",
    "            # if (idx - WINDOW_SIZE - 1) >= idx >= WINDOW_SIZE:\n",
    "            #     for i in range(1,WINDOW_SIZE + 1):\n",
    "            #         _.append(sentence[idx + i])\n",
    "            #         _.append(sentence[idx - i])\n",
    "            # else :\n",
    "            for i in range(1,WINDOW_SIZE + 1):\n",
    "                if idx - i >= 0:\n",
    "                    _.append(sentence[idx - i])\n",
    "                else :\n",
    "                    _.append(2)\n",
    "                if idx + i < len(sentence):\n",
    "                    _.append(sentence[idx + i])\n",
    "                else :\n",
    "                    _.append(2)\n",
    "            pos_labels.append(_)\n",
    "    return np.array(input_labels),np.array(pos_labels)"
   ]
  },
  {
   "cell_type": "code",
   "execution_count": 31,
   "metadata": {},
   "outputs": [],
   "source": [
    "input_labels,pos_labels = getPosSample(df['text'])"
   ]
  },
  {
   "cell_type": "code",
   "execution_count": 43,
   "metadata": {},
   "outputs": [],
   "source": [
    "SAMPLE_SIZE = 2*5*WINDOW_SIZE\n",
    "def getNegSample(word_freq = word_freq,input_labels=input_labels,pos_labels = pos_labels):\n",
    "    proj = []\n",
    "    neg_labels = []\n",
    "    for i,(word,count) in enumerate(word_freq.items()):\n",
    "        if word in word2idx.keys():\n",
    "            _ = [word2idx[word]]*count\n",
    "            proj.extend(_)\n",
    "    for idx in range(len(input_labels)):\n",
    "        _ = []\n",
    "        while(len(_) < SAMPLE_SIZE):\n",
    "            wordidx = proj[random.randint(0,len(proj) - 1)]\n",
    "            if (wordidx in pos_labels[idx]) | (wordidx == input_labels[idx]):\n",
    "                continue\n",
    "            _.append(wordidx)\n",
    "        neg_labels.append(_)\n",
    "    return np.array(neg_labels)"
   ]
  },
  {
   "cell_type": "code",
   "execution_count": 44,
   "metadata": {},
   "outputs": [],
   "source": [
    "neg_labels = getNegSample()"
   ]
  },
  {
   "cell_type": "code",
   "execution_count": 45,
   "metadata": {},
   "outputs": [],
   "source": [
    "word_dataset = WordDataset(input_labels,pos_labels,neg_labels)"
   ]
  },
  {
   "cell_type": "code",
   "execution_count": 46,
   "metadata": {},
   "outputs": [
    {
     "data": {
      "text/plain": [
       "24529"
      ]
     },
     "execution_count": 46,
     "metadata": {},
     "output_type": "execute_result"
    }
   ],
   "source": [
    "len(word2idx)"
   ]
  },
  {
   "cell_type": "code",
   "execution_count": 47,
   "metadata": {},
   "outputs": [
    {
     "data": {
      "text/plain": [
       "24529"
      ]
     },
     "execution_count": 47,
     "metadata": {},
     "output_type": "execute_result"
    }
   ],
   "source": [
    "len(idx2word)"
   ]
  },
  {
   "cell_type": "code",
   "execution_count": 48,
   "metadata": {},
   "outputs": [
    {
     "name": "stdout",
     "output_type": "stream",
     "text": [
      "()\n",
      "(4,)\n",
      "(20,)\n"
     ]
    }
   ],
   "source": [
    "print(word_dataset[0][0].shape)\n",
    "print(word_dataset[0][1].shape)\n",
    "print(word_dataset[0][2].shape)"
   ]
  },
  {
   "cell_type": "code",
   "execution_count": 49,
   "metadata": {},
   "outputs": [],
   "source": [
    "import pickle\n",
    "f = open('word2idx.pkl','wb')\n",
    "pickle.dump(word2idx,f)\n",
    "f.close()"
   ]
  },
  {
   "cell_type": "code",
   "execution_count": 50,
   "metadata": {},
   "outputs": [
    {
     "data": {
      "text/plain": [
       "24529"
      ]
     },
     "execution_count": 50,
     "metadata": {},
     "output_type": "execute_result"
    }
   ],
   "source": [
    "len(idx2word)"
   ]
  },
  {
   "cell_type": "code",
   "execution_count": 51,
   "metadata": {},
   "outputs": [],
   "source": [
    "f = open('idx2word.pkl','wb')\n",
    "pickle.dump(idx2word,f)\n",
    "f.close()"
   ]
  },
  {
   "cell_type": "code",
   "execution_count": 52,
   "metadata": {},
   "outputs": [],
   "source": [
    "f = open('word_freq.pkl','wb')\n",
    "pickle.dump(word_freq,f)\n",
    "f.close()"
   ]
  },
  {
   "cell_type": "code",
   "execution_count": null,
   "metadata": {},
   "outputs": [],
   "source": [
    "import pickle\n",
    "f = open('df_big.pkl','rb')\n",
    "word_df= pickle.load(f)\n",
    "f.close()"
   ]
  }
 ],
 "metadata": {
  "interpreter": {
   "hash": "bd51592dbbd9f65b270c81363871e02974afbff07f8adfbdf2e97d0878249623"
  },
  "kernelspec": {
   "display_name": "Python 3.9.7 64-bit",
   "language": "python",
   "name": "python3"
  },
  "language_info": {
   "codemirror_mode": {
    "name": "ipython",
    "version": 3
   },
   "file_extension": ".py",
   "mimetype": "text/x-python",
   "name": "python",
   "nbconvert_exporter": "python",
   "pygments_lexer": "ipython3",
   "version": "3.9.7"
  },
  "orig_nbformat": 4
 },
 "nbformat": 4,
 "nbformat_minor": 2
}
