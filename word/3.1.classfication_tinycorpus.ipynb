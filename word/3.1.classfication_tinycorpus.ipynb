{
 "cells": [
  {
   "cell_type": "code",
   "execution_count": 1,
   "metadata": {},
   "outputs": [],
   "source": [
    "import torch\n",
    "import pickle\n",
    "import pandas as pd\n",
    "import numpy as np\n",
    "from sklearn.model_selection import train_test_split\n",
    "from torch import nn as nn\n",
    "import matplotlib.pyplot as plt\n",
    "import seaborn as sns"
   ]
  },
  {
   "cell_type": "code",
   "execution_count": 2,
   "metadata": {},
   "outputs": [
    {
     "data": {
      "text/plain": [
       "True"
      ]
     },
     "execution_count": 2,
     "metadata": {},
     "output_type": "execute_result"
    }
   ],
   "source": [
    "torch.cuda.is_available()"
   ]
  },
  {
   "cell_type": "code",
   "execution_count": 3,
   "metadata": {},
   "outputs": [],
   "source": [
    "from sklearn.metrics import confusion_matrix\n",
    "def plot_confusion_matrix(y_test,y_pred,labels=None,lenth=20,ratio=False,cmap=\"Blues\",annot=True,width=12,fmt=\"g\"):\n",
    "    if labels == None:\n",
    "        labels = pd.Series(labels for labels in y_test.squeeze()).unique()\n",
    "    conf_mat = pd.DataFrame(confusion_matrix(y_test.squeeze(), y_pred.squeeze(), labels=labels))\n",
    "    if ratio == True:\n",
    "        conf_mat = conf_mat.divide(conf_mat.sum(axis=1), axis=0)\n",
    "    fig, ax = plt.subplots(figsize=(lenth, width))\n",
    "    sns.heatmap(conf_mat,cmap=cmap,annot=annot,xticklabels=labels,yticklabels=labels,fmt=fmt)\n",
    "    plt.ylabel(\"Actual\")\n",
    "    plt.xlabel(\"Predicted\")\n",
    "    plt.show()"
   ]
  },
  {
   "cell_type": "code",
   "execution_count": 4,
   "metadata": {},
   "outputs": [],
   "source": [
    "f = open('word2idx.pkl','rb')\n",
    "word2idx = pickle.load(f)\n",
    "f.close()\n",
    "f = open('idx2word.pkl','rb')\n",
    "idx2word= pickle.load(f)\n",
    "f.close()\n",
    "f = open('word_df.pkl','rb')\n",
    "word_df= pickle.load(f)\n",
    "f.close()\n",
    "f = open('word_embedding.pkl','rb')\n",
    "word_embedding= pickle.load(f)\n",
    "f.close()"
   ]
  },
  {
   "cell_type": "code",
   "execution_count": 5,
   "metadata": {},
   "outputs": [],
   "source": [
    "EOS_NUM = 0\n",
    "UNK_NUM = 1\n",
    "PADDLING_NUM = 2"
   ]
  },
  {
   "cell_type": "code",
   "execution_count": 6,
   "metadata": {},
   "outputs": [
    {
     "data": {
      "text/plain": [
       "count    56821.000000\n",
       "mean         9.087344\n",
       "std          2.868494\n",
       "min          0.000000\n",
       "25%          7.000000\n",
       "50%          9.000000\n",
       "75%         11.000000\n",
       "max         48.000000\n",
       "Name: text, dtype: float64"
      ]
     },
     "execution_count": 6,
     "metadata": {},
     "output_type": "execute_result"
    }
   ],
   "source": [
    "word_df['text'].apply(len).describe()"
   ]
  },
  {
   "cell_type": "code",
   "execution_count": 7,
   "metadata": {},
   "outputs": [
    {
     "data": {
      "text/plain": [
       "count    56821.000000\n",
       "mean         9.087344\n",
       "std          2.868494\n",
       "min          0.000000\n",
       "25%          7.000000\n",
       "50%          9.000000\n",
       "75%         11.000000\n",
       "max         48.000000\n",
       "Name: text, dtype: float64"
      ]
     },
     "execution_count": 7,
     "metadata": {},
     "output_type": "execute_result"
    }
   ],
   "source": [
    "word_df['text'].apply(len).describe()"
   ]
  },
  {
   "cell_type": "code",
   "execution_count": 8,
   "metadata": {},
   "outputs": [
    {
     "data": {
      "text/plain": [
       "24529"
      ]
     },
     "execution_count": 8,
     "metadata": {},
     "output_type": "execute_result"
    }
   ],
   "source": [
    "len(word_embedding)"
   ]
  },
  {
   "cell_type": "code",
   "execution_count": 9,
   "metadata": {},
   "outputs": [],
   "source": [
    "def getWordEmbedding(data):\n",
    "    seq_embed = []\n",
    "    _ = 0\n",
    "    for word in data:\n",
    "        seq_embed.append(word_embedding[word])\n",
    "        _ += 1\n",
    "        if _ == 9:\n",
    "            break\n",
    "    if _ <= 9:\n",
    "        for i in range(9 - _):\n",
    "            seq_embed.append(np.zeros(128))\n",
    "    seq_embed = np.array(seq_embed)\n",
    "    return seq_embed"
   ]
  },
  {
   "cell_type": "code",
   "execution_count": 10,
   "metadata": {},
   "outputs": [],
   "source": [
    "# def getWordEmbedding(data):\n",
    "#     seq_embed = []\n",
    "#     _ = 0\n",
    "#     for word in data:\n",
    "#         seq_embed.append(word)\n",
    "#         _ += 1\n",
    "#         if _ == 9:\n",
    "#             break\n",
    "#     if _ <= 9:\n",
    "#         for i in range(9 - _):\n",
    "#             seq_embed.append()\n",
    "#     seq_embed = np.array(seq_embed)\n",
    "#     return seq_embed"
   ]
  },
  {
   "cell_type": "code",
   "execution_count": 11,
   "metadata": {},
   "outputs": [],
   "source": [
    "word_df['text'] = word_df['text'].apply(getWordEmbedding)"
   ]
  },
  {
   "cell_type": "code",
   "execution_count": 12,
   "metadata": {},
   "outputs": [
    {
     "name": "stderr",
     "output_type": "stream",
     "text": [
      "C:\\Users\\Javon\\AppData\\Local\\Temp/ipykernel_1320/72822735.py:2: SettingWithCopyWarning: \n",
      "A value is trying to be set on a copy of a slice from a DataFrame.\n",
      "Try using .loc[row_indexer,col_indexer] = value instead\n",
      "\n",
      "See the caveats in the documentation: https://pandas.pydata.org/pandas-docs/stable/user_guide/indexing.html#returning-a-view-versus-a-copy\n",
      "  train_df['class'] = train_df['class'].apply(np.float32)\n"
     ]
    }
   ],
   "source": [
    "train_df = word_df[['text','class']]\n",
    "train_df['class'] = train_df['class'].apply(np.float32)"
   ]
  },
  {
   "cell_type": "code",
   "execution_count": 13,
   "metadata": {},
   "outputs": [
    {
     "data": {
      "text/plain": [
       "array([[ 0.02666781,  0.17830361,  0.05896056, ..., -0.16031061,\n",
       "         0.11336898, -0.08526121],\n",
       "       [ 0.02924256,  0.19354033,  0.06433532, ..., -0.1772936 ,\n",
       "         0.12500608, -0.09061292],\n",
       "       [-0.0839004 , -1.2077056 , -0.2528606 , ..., -0.31072524,\n",
       "         0.05834974,  1.3479041 ],\n",
       "       ...,\n",
       "       [ 0.03229726,  0.21405612,  0.07111906, ..., -0.19578084,\n",
       "         0.13809216, -0.10043601],\n",
       "       [ 0.02907891,  0.19331944,  0.06409359, ..., -0.17545098,\n",
       "         0.12392033, -0.09148085],\n",
       "       [ 0.03133297,  0.18446289,  0.06655352, ..., -0.22015649,\n",
       "         0.14963819, -0.05733985]], dtype=float32)"
      ]
     },
     "execution_count": 13,
     "metadata": {},
     "output_type": "execute_result"
    }
   ],
   "source": [
    "train_df['text'][0]"
   ]
  },
  {
   "cell_type": "code",
   "execution_count": 14,
   "metadata": {},
   "outputs": [],
   "source": [
    "X_train,X_test,y_train,y_test = train_test_split(\n",
    "    train_df['text'].values,\n",
    "    train_df['class'].values,\n",
    "    test_size=0.2,\n",
    "    stratify=train_df['class'],\n",
    "    random_state=42,\n",
    ")"
   ]
  },
  {
   "cell_type": "code",
   "execution_count": 15,
   "metadata": {},
   "outputs": [],
   "source": [
    "class seqDataset(torch.utils.data.Dataset):\n",
    "    def __init__(self,data,label,transformer = None):\n",
    "        super(seqDataset,self).__init__()\n",
    "        self.data = data\n",
    "        self.label = label\n",
    "        self.transformer = transformer\n",
    "    \n",
    "    def __getitem__(self,idx):\n",
    "        if self.transformer:\n",
    "            return transformer(self.data[idx]),self.label[idx]\n",
    "        return self.data[idx],self.label[idx]\n",
    "    \n",
    "    def __len__(self):\n",
    "        return len(self.data)"
   ]
  },
  {
   "cell_type": "code",
   "execution_count": 16,
   "metadata": {},
   "outputs": [],
   "source": [
    "X_train = [np.array(i) for i in X_train]\n",
    "X_test = [np.array(i) for i in X_test]"
   ]
  },
  {
   "cell_type": "code",
   "execution_count": 17,
   "metadata": {},
   "outputs": [
    {
     "data": {
      "text/plain": [
       "array([[ 2.65811346e-02,  1.77673206e-01,  5.86651601e-02, ...,\n",
       "        -1.59046233e-01,  1.12569943e-01, -8.53324458e-02],\n",
       "       [ 3.62136737e-02,  2.37618491e-01,  7.96203986e-02, ...,\n",
       "        -2.23189399e-01,  1.56768993e-01, -1.08234830e-01],\n",
       "       [-2.75963939e-05,  1.87532933e-05,  1.98255293e-06, ...,\n",
       "        -2.82110450e-05, -1.27364456e-05, -2.07734320e-05],\n",
       "       ...,\n",
       "       [-8.39003995e-02, -1.20770562e+00, -2.52860606e-01, ...,\n",
       "        -3.10725242e-01,  5.83497398e-02,  1.34790409e+00],\n",
       "       [ 3.55841517e-02,  2.31389880e-01,  7.78957680e-02, ...,\n",
       "        -2.20986784e-01,  1.54726923e-01, -1.03786886e-01],\n",
       "       [ 2.34421585e-02,  1.57128274e-01,  5.18420152e-02, ...,\n",
       "        -1.40195757e-01,  9.92997736e-02, -7.57441595e-02]], dtype=float32)"
      ]
     },
     "execution_count": 17,
     "metadata": {},
     "output_type": "execute_result"
    }
   ],
   "source": [
    "X_train[0]"
   ]
  },
  {
   "cell_type": "code",
   "execution_count": 18,
   "metadata": {},
   "outputs": [],
   "source": [
    "train_dataset = seqDataset(X_train,y_train)\n",
    "test_dataset = seqDataset(X_test,y_test)"
   ]
  },
  {
   "cell_type": "code",
   "execution_count": 19,
   "metadata": {},
   "outputs": [],
   "source": [
    "train_loader = torch.utils.data.DataLoader(train_dataset,batch_size=500)\n",
    "test_loader = torch.utils.data.DataLoader(test_dataset,batch_size=500)"
   ]
  },
  {
   "cell_type": "code",
   "execution_count": 20,
   "metadata": {},
   "outputs": [
    {
     "name": "stdout",
     "output_type": "stream",
     "text": [
      "torch.Size([500, 9, 128])\n"
     ]
    }
   ],
   "source": [
    "for i,(x,y) in enumerate(train_loader):\n",
    "    print(x.shape)\n",
    "    break"
   ]
  },
  {
   "cell_type": "code",
   "execution_count": 21,
   "metadata": {},
   "outputs": [],
   "source": [
    "def train(model,EPOCH=150,learning_rate=0.05):\n",
    "    model = model\n",
    "    opt = torch.optim.SGD(params=model.parameters(), lr=learning_rate)\n",
    "    loss_fn = nn.CrossEntropyLoss()\n",
    "    EPOCH = EPOCH\n",
    "    itr = 0\n",
    "    model.cuda()\n",
    "    for epoch in range(EPOCH):\n",
    "        for i,(x,y) in enumerate(train_loader):\n",
    "            batch_X = torch.FloatTensor(np.float32(x)).cuda()\n",
    "            batch_Y = torch.LongTensor(np.int64(y)).cuda()\n",
    "            output = model(batch_X)\n",
    "            opt.zero_grad()\n",
    "            loss = loss_fn(output,batch_Y)\n",
    "            loss.backward()\n",
    "            opt.step()\n",
    "            if (i+1) % 20 == 0:\n",
    "                itr += 20\n",
    "                acc = (batch_Y.detach().cpu().numpy() == output.detach().cpu().argmax(axis=1).numpy()).mean()\n",
    "                print('epoch\\t:{}\\titr:{}\\tloss:{}\\tacc:{}\\n'.format(epoch,itr,loss,acc))\n",
    "                # print(output.detach().cpu())\n",
    "    return model\n",
    "\n",
    "def test(model):\n",
    "    accs = []\n",
    "    y_pred = []\n",
    "    y_true = []\n",
    "    for i,(x,y) in enumerate(test_loader):\n",
    "        batch_X = torch.FloatTensor(np.float32(x)).cuda()\n",
    "        batch_Y = torch.LongTensor(np.int64(y)).cuda()\n",
    "        output = model(batch_X)\n",
    "        acc = (batch_Y.detach().cpu().numpy() == output.detach().cpu().argmax(axis=1).numpy()).mean()\n",
    "        accs.append(acc)\n",
    "        y_pred.extend(output.detach().cpu().argmax(axis=1).numpy())\n",
    "        y_true.extend(batch_Y.detach().cpu().numpy()) \n",
    "    print(np.array(accs).mean())\n",
    "    return y_pred,y_true"
   ]
  },
  {
   "cell_type": "code",
   "execution_count": 22,
   "metadata": {},
   "outputs": [],
   "source": [
    "class SimpleRNN(nn.Module):\n",
    "    def __init__(self,seq_len=9,embedding_size=128,h1_size=128,num_embeddings = len(idx2word)):\n",
    "        super(SimpleRNN,self).__init__()\n",
    "        self.embedding_size = embedding_size\n",
    "        self.h1_size = h1_size\n",
    "        self.seq_len = seq_len\n",
    "        self.num_embeddings = num_embeddings\n",
    "\n",
    "        self.embed = nn.Embedding(num_embeddings=self.num_embeddings,embedding_dim=self.embedding_size)\n",
    "\n",
    "        self.layer1 = nn.Sequential(\n",
    "            nn.RNN(input_size = self.embedding_size,hidden_size = self.h1_size,num_layers=2,batch_first=True),\n",
    "        )\n",
    "\n",
    "        self.output = nn.Sequential(\n",
    "            nn.Flatten(),\n",
    "            nn.Linear(self.seq_len*self.h1_size,self.h1_size),\n",
    "            nn.Sigmoid(),\n",
    "            nn.Linear(self.h1_size,10),\n",
    "            nn.Softmax(),\n",
    "        )\n",
    "    def forward(self,x):\n",
    "        # out = self.embed(x)\n",
    "        out,hid = self.layer1(x)\n",
    "        out = self.output(out)\n",
    "        return out"
   ]
  },
  {
   "cell_type": "code",
   "execution_count": 23,
   "metadata": {},
   "outputs": [],
   "source": [
    "class SimpleLSTM(nn.Module):\n",
    "    def __init__(self,seq_len=9,embedding_size=128,h1_size=128,num_embeddings = len(idx2word)):\n",
    "        super(SimpleLSTM,self).__init__()\n",
    "        self.embedding_size = embedding_size\n",
    "        self.h1_size = h1_size\n",
    "        self.seq_len = seq_len\n",
    "        self.num_embeddings = num_embeddings\n",
    "\n",
    "        self.embed = nn.Embedding(num_embeddings=self.num_embeddings,embedding_dim=self.embedding_size)\n",
    "\n",
    "        self.layer1 = nn.Sequential(\n",
    "            nn.LSTM(input_size = self.embedding_size,hidden_size = self.h1_size,num_layers=2,batch_first=True),\n",
    "        )\n",
    "\n",
    "        self.output = nn.Sequential(\n",
    "            nn.Flatten(),\n",
    "            nn.Linear(self.seq_len*self.embedding_size,self.embedding_size),\n",
    "            nn.Sigmoid(),\n",
    "            nn.Linear(self.embedding_size,10),\n",
    "            nn.Softmax(),\n",
    "        )\n",
    "    def forward(self,x):\n",
    "        # out = self.embed(x)\n",
    "        out,(hn, cn) = self.layer1(x)\n",
    "        out = self.output(out)\n",
    "        return out"
   ]
  },
  {
   "cell_type": "code",
   "execution_count": 24,
   "metadata": {},
   "outputs": [],
   "source": [
    "class TransformerEncoder(nn.Module):\n",
    "    def __init__(self,seq_len=9,embedding_size=128,num_embeddings = len(idx2word)):\n",
    "        super(TransformerEncoder,self).__init__()\n",
    "        self.num_embeddings = num_embeddings \n",
    "        self.embedding_size = embedding_size\n",
    "        self.seq_len = seq_len\n",
    "        self.emb = nn.Embedding(num_embeddings=self.num_embeddings,embedding_dim=self.embedding_size)\n",
    "        self.layer1 = nn.Sequential(\n",
    "            nn.TransformerEncoderLayer(d_model=embedding_size, nhead=8, batch_first=True),\n",
    "            nn.TransformerEncoderLayer(d_model=embedding_size, nhead=8, batch_first=True),\n",
    "            nn.TransformerEncoderLayer(d_model=embedding_size, nhead=8, batch_first=True),\n",
    "            nn.TransformerEncoderLayer(d_model=embedding_size, nhead=8, batch_first=True),\n",
    "        )\n",
    "\n",
    "        self.output = nn.Sequential(\n",
    "            nn.Flatten(),\n",
    "            nn.Linear(self.seq_len*self.embedding_size,10),\n",
    "            nn.Softmax(),\n",
    "        )\n",
    "    def forward(self,x):\n",
    "        # out = self.emb(x)\n",
    "        out = self.layer1(x)\n",
    "        out = self.output(out)\n",
    "        return out"
   ]
  },
  {
   "cell_type": "code",
   "execution_count": 25,
   "metadata": {},
   "outputs": [],
   "source": [
    "class SimpleCNN(nn.Module):\n",
    "    def __init__(self,embedding_size=128,num_embeddings = len(idx2word)):\n",
    "        super(SimpleCNN,self).__init__()\n",
    "        self.num_embeddings = num_embeddings\n",
    "        self.embedding_size = embedding_size\n",
    "        # self.embed = nn.Embedding(num_embeddings=self.num_embeddings,embedding_dim=self.embedding_size)\n",
    "        self.conv1 = nn.Sequential(\n",
    "            nn.Conv1d(in_channels = 128,out_channels = 256,kernel_size=2),\n",
    "            nn.ReLU(),\n",
    "            nn.BatchNorm1d(256),\n",
    "        )\n",
    "        #[batch_size = 500,channels=128,seq_len - k_s + 1 = 8]\n",
    "        self.conv2 = nn.Sequential(\n",
    "            nn.Conv1d(in_channels = 256,out_channels = 256,kernel_size=2),\n",
    "            nn.ReLU(),\n",
    "            nn.BatchNorm1d(256),\n",
    "        )\n",
    "        #[batch_size = 500,embedding_size = 128,seq_len - k_s + 1 = 7]\n",
    "        self.conv3 = nn.Sequential(\n",
    "            nn.Conv1d(in_channels = 256,out_channels = 256,kernel_size=3,stride = 2),\n",
    "            nn.ReLU(),\n",
    "            nn.BatchNorm1d(256),\n",
    "            # nn.MaxPool1d(6),\n",
    "        )\n",
    "        #[batch_size = 500,embedding_size = 256,(seq_len - k_s)/2+ 1 = 3]\n",
    "        self.conv4 = nn.Sequential(\n",
    "            nn.Conv1d(in_channels = 256,out_channels = 128,kernel_size = 3),\n",
    "            nn.ReLU(),\n",
    "            nn.BatchNorm1d(128),\n",
    "        )\n",
    "        #[batch_size = 500,embedding_size = 256,seq_len - k_s + 1 = 1]\n",
    "\n",
    "\n",
    "        self.output = nn.Sequential(\n",
    "            nn.Flatten(),\n",
    "            nn.Linear(128,10),\n",
    "            nn.Softmax()\n",
    "        )\n",
    "    def forward(self,x):\n",
    "        # out = self.embed(x).transpose(2,1)\n",
    "        out = self.conv1(x.transpose(2,1))\n",
    "        out = self.conv2(out)\n",
    "        out = self.conv3(out)\n",
    "        out = self.conv4(out)\n",
    "        out = self.output(out)\n",
    "        return out"
   ]
  },
  {
   "cell_type": "code",
   "execution_count": null,
   "metadata": {},
   "outputs": [],
   "source": [
    "model = train(TransformerEncoder(),EPOCH=500,learning_rate=0.5)\n",
    "y_pred,y_true = test(model)\n",
    "plot_confusion_matrix(np.array(y_true),np.array(y_pred))"
   ]
  },
  {
   "cell_type": "code",
   "execution_count": null,
   "metadata": {},
   "outputs": [],
   "source": [
    "model = train(SimpleRNN(),EPOCH=500,learning_rate=0.5)\n",
    "y_pred,y_true = test(model)\n",
    "plot_confusion_matrix(np.array(y_true),np.array(y_pred))"
   ]
  },
  {
   "cell_type": "code",
   "execution_count": null,
   "metadata": {},
   "outputs": [],
   "source": [
    "model = train(SimpleLSTM(),EPOCH=500,learning_rate=0.5)\n",
    "y_pred,y_true = test(model)\n",
    "plot_confusion_matrix(np.array(y_true),np.array(y_pred))"
   ]
  },
  {
   "cell_type": "code",
   "execution_count": null,
   "metadata": {},
   "outputs": [],
   "source": [
    "model = train(SimpleCNN(),EPOCH=500,learning_rate=0.5)\n",
    "y_pred,y_true = test(model)\n",
    "plot_confusion_matrix(np.array(y_true),np.array(y_pred))"
   ]
  }
 ],
 "metadata": {
  "interpreter": {
   "hash": "bd51592dbbd9f65b270c81363871e02974afbff07f8adfbdf2e97d0878249623"
  },
  "kernelspec": {
   "display_name": "Python 3.9.7 64-bit",
   "language": "python",
   "name": "python3"
  },
  "language_info": {
   "codemirror_mode": {
    "name": "ipython",
    "version": 3
   },
   "file_extension": ".py",
   "mimetype": "text/x-python",
   "name": "python",
   "nbconvert_exporter": "python",
   "pygments_lexer": "ipython3",
   "version": "3.9.7"
  },
  "orig_nbformat": 4
 },
 "nbformat": 4,
 "nbformat_minor": 2
}
