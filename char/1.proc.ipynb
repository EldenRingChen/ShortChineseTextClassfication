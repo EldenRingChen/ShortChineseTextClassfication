{
 "cells": [
  {
   "cell_type": "code",
   "execution_count": 1,
   "metadata": {},
   "outputs": [],
   "source": [
    "import numpy as np\n",
    "import pandas as pd\n",
    "import seaborn as sns\n",
    "import warnings \n",
    "import jieba\n",
    "warnings.filterwarnings('ignore')"
   ]
  },
  {
   "cell_type": "code",
   "execution_count": 2,
   "metadata": {},
   "outputs": [
    {
     "name": "stderr",
     "output_type": "stream",
     "text": [
      "Building prefix dict from the default dictionary ...\n",
      "Loading model from cache C:\\Users\\Javon\\AppData\\Local\\Temp\\jieba.cache\n",
      "Loading model cost 0.386 seconds.\n",
      "Prefix dict has been built successfully.\n"
     ]
    },
    {
     "data": {
      "text/plain": [
       "'老祖宗俗语：“万恶淫为首”，下一句更是精华，却没几个人能做到\\n'"
      ]
     },
     "execution_count": 2,
     "metadata": {},
     "output_type": "execute_result"
    }
   ],
   "source": [
    "with open('news_classify_data.txt','r',encoding='utf-8') as f:\n",
    "    txt = f.readlines()\n",
    "f.close()\n",
    "jieba.add_word('亦舒')\n",
    "jieba.add_word('昆凌')\n",
    "jieba.add_word('周杰伦')\n",
    "text = np.array([_.split('_!_') for _ in txt])\n",
    "text[0][0] = '6660024717287621123'\n",
    "text[:,1] = [int(_) for _ in text[:,1]]\n",
    "text[:,0] = [int(_) for _ in text[:,0]]\n",
    "df = pd.DataFrame(text,columns = ['id','class','name','text'])\n",
    "stop_word_f = open('ChineseStopWords.txt',encoding='utf-8')\n",
    "lines = stop_word_f.readlines()\n",
    "stop_word_f.close()\n",
    "stop_list = [_[:-1] for _ in lines]\n",
    "df['text'][0]"
   ]
  },
  {
   "cell_type": "code",
   "execution_count": 3,
   "metadata": {},
   "outputs": [],
   "source": [
    "def dict_proc(data):\n",
    "    data['text'] = pd.Series(' '.join(jieba.cut(_[:-1],HMM=True)) for _ in data['text'])\n",
    "    return data\n",
    "df = dict_proc(df)"
   ]
  },
  {
   "cell_type": "code",
   "execution_count": 4,
   "metadata": {},
   "outputs": [],
   "source": [
    "def str2str(data,stop_list):\n",
    "    for idx in range(len(data['text'])):\n",
    "        char_list = []\n",
    "        for char in data['text'][idx].split():\n",
    "            if char not in stop_list:\n",
    "                char_list.append(char)\n",
    "        data['text'][idx] = ''.join(char_list)\n",
    "    return data\n",
    "df = str2str(df,stop_list)"
   ]
  },
  {
   "cell_type": "code",
   "execution_count": 5,
   "metadata": {},
   "outputs": [
    {
     "data": {
      "text/html": [
       "<div>\n",
       "<style scoped>\n",
       "    .dataframe tbody tr th:only-of-type {\n",
       "        vertical-align: middle;\n",
       "    }\n",
       "\n",
       "    .dataframe tbody tr th {\n",
       "        vertical-align: top;\n",
       "    }\n",
       "\n",
       "    .dataframe thead th {\n",
       "        text-align: right;\n",
       "    }\n",
       "</style>\n",
       "<table border=\"1\" class=\"dataframe\">\n",
       "  <thead>\n",
       "    <tr style=\"text-align: right;\">\n",
       "      <th></th>\n",
       "      <th>id</th>\n",
       "      <th>class</th>\n",
       "      <th>name</th>\n",
       "      <th>text</th>\n",
       "    </tr>\n",
       "  </thead>\n",
       "  <tbody>\n",
       "    <tr>\n",
       "      <th>0</th>\n",
       "      <td>6660024717287621123</td>\n",
       "      <td>0</td>\n",
       "      <td>文化</td>\n",
       "      <td>老祖宗俗语万恶淫为首一句更是精华没几个人能</td>\n",
       "    </tr>\n",
       "    <tr>\n",
       "      <th>1</th>\n",
       "      <td>6675222202004013572</td>\n",
       "      <td>0</td>\n",
       "      <td>文化</td>\n",
       "      <td>老照片1907年山东省泰安府</td>\n",
       "    </tr>\n",
       "    <tr>\n",
       "      <th>2</th>\n",
       "      <td>6679940295825555980</td>\n",
       "      <td>0</td>\n",
       "      <td>文化</td>\n",
       "      <td>亦舒经典语录100句</td>\n",
       "    </tr>\n",
       "    <tr>\n",
       "      <th>3</th>\n",
       "      <td>6676963806968545799</td>\n",
       "      <td>0</td>\n",
       "      <td>文化</td>\n",
       "      <td>乐山大佛整修花脸清洗干净网友美完容变帅</td>\n",
       "    </tr>\n",
       "    <tr>\n",
       "      <th>4</th>\n",
       "      <td>6664825683656573448</td>\n",
       "      <td>0</td>\n",
       "      <td>文化</td>\n",
       "      <td>7000年前女子花样年华遭受残忍</td>\n",
       "    </tr>\n",
       "    <tr>\n",
       "      <th>...</th>\n",
       "      <td>...</td>\n",
       "      <td>...</td>\n",
       "      <td>...</td>\n",
       "      <td>...</td>\n",
       "    </tr>\n",
       "    <tr>\n",
       "      <th>56816</th>\n",
       "      <td>6691485644243337735</td>\n",
       "      <td>8</td>\n",
       "      <td>国际</td>\n",
       "      <td>外媒苏丹军队开枪驱散示威者伤军方抗议者指责</td>\n",
       "    </tr>\n",
       "    <tr>\n",
       "      <th>56817</th>\n",
       "      <td>6691479002646839822</td>\n",
       "      <td>8</td>\n",
       "      <td>国际</td>\n",
       "      <td>特朗普说中国经济不好外交部中国经济主管部门</td>\n",
       "    </tr>\n",
       "    <tr>\n",
       "      <th>56818</th>\n",
       "      <td>6691483762988941835</td>\n",
       "      <td>8</td>\n",
       "      <td>国际</td>\n",
       "      <td>美伊局势升级美国会白宫作出解释</td>\n",
       "    </tr>\n",
       "    <tr>\n",
       "      <th>56819</th>\n",
       "      <td>6691481494600286727</td>\n",
       "      <td>8</td>\n",
       "      <td>国际</td>\n",
       "      <td>中国女留学生澳失踪月警方呼吁公众协助寻人</td>\n",
       "    </tr>\n",
       "    <tr>\n",
       "      <th>56820</th>\n",
       "      <td>6691480635921400323</td>\n",
       "      <td>8</td>\n",
       "      <td>国际</td>\n",
       "      <td>自带桌子来店免单英国这家餐厅目标用户</td>\n",
       "    </tr>\n",
       "  </tbody>\n",
       "</table>\n",
       "<p>56821 rows × 4 columns</p>\n",
       "</div>"
      ],
      "text/plain": [
       "                        id class name                   text\n",
       "0      6660024717287621123     0   文化  老祖宗俗语万恶淫为首一句更是精华没几个人能\n",
       "1      6675222202004013572     0   文化         老照片1907年山东省泰安府\n",
       "2      6679940295825555980     0   文化             亦舒经典语录100句\n",
       "3      6676963806968545799     0   文化    乐山大佛整修花脸清洗干净网友美完容变帅\n",
       "4      6664825683656573448     0   文化       7000年前女子花样年华遭受残忍\n",
       "...                    ...   ...  ...                    ...\n",
       "56816  6691485644243337735     8   国际  外媒苏丹军队开枪驱散示威者伤军方抗议者指责\n",
       "56817  6691479002646839822     8   国际  特朗普说中国经济不好外交部中国经济主管部门\n",
       "56818  6691483762988941835     8   国际        美伊局势升级美国会白宫作出解释\n",
       "56819  6691481494600286727     8   国际   中国女留学生澳失踪月警方呼吁公众协助寻人\n",
       "56820  6691480635921400323     8   国际     自带桌子来店免单英国这家餐厅目标用户\n",
       "\n",
       "[56821 rows x 4 columns]"
      ]
     },
     "execution_count": 5,
     "metadata": {},
     "output_type": "execute_result"
    }
   ],
   "source": [
    "df"
   ]
  },
  {
   "cell_type": "code",
   "execution_count": 5,
   "metadata": {},
   "outputs": [
    {
     "data": {
      "text/plain": [
       "0        [老, 祖, 宗, 俗, 语, 万, 恶, 淫, 为, 首, 一, 句, 更, 是, 精, ...\n",
       "1               [老, 照, 片, 1, 9, 0, 7, 年, 山, 东, 省, 泰, 安, 府]\n",
       "2                           [亦, 舒, 经, 典, 语, 录, 1, 0, 0, 句]\n",
       "3        [乐, 山, 大, 佛, 整, 修, 花, 脸, 清, 洗, 干, 净, 网, 友, 美, ...\n",
       "4         [7, 0, 0, 0, 年, 前, 女, 子, 花, 样, 年, 华, 遭, 受, 残, 忍]\n",
       "                               ...                        \n",
       "56816    [外, 媒, 苏, 丹, 军, 队, 开, 枪, 驱, 散, 示, 威, 者, 伤, 军, ...\n",
       "56817    [特, 朗, 普, 说, 中, 国, 经, 济, 不, 好, 外, 交, 部, 中, 国, ...\n",
       "56818        [美, 伊, 局, 势, 升, 级, 美, 国, 会, 白, 宫, 作, 出, 解, 释]\n",
       "56819    [中, 国, 女, 留, 学, 生, 澳, 失, 踪, 月, 警, 方, 呼, 吁, 公, ...\n",
       "56820    [自, 带, 桌, 子, 来, 店, 免, 单, 英, 国, 这, 家, 餐, 厅, 目, ...\n",
       "Name: text, Length: 56821, dtype: object"
      ]
     },
     "execution_count": 5,
     "metadata": {},
     "output_type": "execute_result"
    }
   ],
   "source": [
    "def char2list(data):\n",
    "    return [char for char in data]\n",
    "\n",
    "df['text'].apply(char2list)"
   ]
  },
  {
   "cell_type": "code",
   "execution_count": 14,
   "metadata": {},
   "outputs": [],
   "source": [
    "def charFreqCount(data):\n",
    "    char2idx = dict()\n",
    "    idx2char = dict()\n",
    "    char_freq = dict()\n",
    "    char_freq['<Paddling>'] = 1\n",
    "    char_freq['<UNK>'] = 1\n",
    "    char_freq['<EOS>'] = 1\n",
    "    for chars in data:\n",
    "        for i in chars:\n",
    "            char_freq[i] = char_freq.get(i,0) + 1\n",
    "    return char2idx,idx2char,char_freq"
   ]
  },
  {
   "cell_type": "code",
   "execution_count": 7,
   "metadata": {},
   "outputs": [],
   "source": [
    "char2idx,idx2char,char_freq = charFreqCount(df['text'])"
   ]
  },
  {
   "cell_type": "code",
   "execution_count": 8,
   "metadata": {},
   "outputs": [],
   "source": [
    "# char_freq = dict(sorted(char_freq.items(),key=lambda x:x[1],reverse = True))"
   ]
  },
  {
   "cell_type": "code",
   "execution_count": 17,
   "metadata": {},
   "outputs": [],
   "source": [
    "def worddictProc(char2idx,idx2char,char_freq,min_count = 1,max_count = 15000):\n",
    "    idx = 0\n",
    "    for _,(char,count) in enumerate(char_freq.items()):\n",
    "        if min_count <= count <= max_count:\n",
    "            char2idx[char] = idx\n",
    "            idx2char[idx] = char\n",
    "            idx += 1\n",
    "    return char2idx,idx2char\n",
    "char2idx,idx2char = worddictProc(char2idx,idx2char,char_freq)"
   ]
  },
  {
   "cell_type": "code",
   "execution_count": null,
   "metadata": {},
   "outputs": [],
   "source": []
  },
  {
   "cell_type": "code",
   "execution_count": 21,
   "metadata": {},
   "outputs": [],
   "source": [
    "def seq2list(data,char2idx=char2idx):\n",
    "    for index in range(len(data)):\n",
    "        word_list = []\n",
    "        word = data[index]\n",
    "        for i in word:\n",
    "            if i in char2idx.keys():\n",
    "                word_list.append(char2idx[i])\n",
    "            else:\n",
    "                word_list.append(char2idx['<UNK>'])\n",
    "        data[index] = word_list\n",
    "    return data"
   ]
  },
  {
   "cell_type": "code",
   "execution_count": 22,
   "metadata": {},
   "outputs": [],
   "source": [
    "df['text'] = seq2list(df['text'])"
   ]
  },
  {
   "cell_type": "code",
   "execution_count": 23,
   "metadata": {},
   "outputs": [
    {
     "data": {
      "text/html": [
       "<div>\n",
       "<style scoped>\n",
       "    .dataframe tbody tr th:only-of-type {\n",
       "        vertical-align: middle;\n",
       "    }\n",
       "\n",
       "    .dataframe tbody tr th {\n",
       "        vertical-align: top;\n",
       "    }\n",
       "\n",
       "    .dataframe thead th {\n",
       "        text-align: right;\n",
       "    }\n",
       "</style>\n",
       "<table border=\"1\" class=\"dataframe\">\n",
       "  <thead>\n",
       "    <tr style=\"text-align: right;\">\n",
       "      <th></th>\n",
       "      <th>id</th>\n",
       "      <th>class</th>\n",
       "      <th>name</th>\n",
       "      <th>text</th>\n",
       "    </tr>\n",
       "  </thead>\n",
       "  <tbody>\n",
       "    <tr>\n",
       "      <th>0</th>\n",
       "      <td>6660024717287621123</td>\n",
       "      <td>0</td>\n",
       "      <td>文化</td>\n",
       "      <td>[3, 4, 5, 6, 7, 8, 9, 10, 11, 12, 13, 14, 15, ...</td>\n",
       "    </tr>\n",
       "    <tr>\n",
       "      <th>1</th>\n",
       "      <td>6675222202004013572</td>\n",
       "      <td>0</td>\n",
       "      <td>文化</td>\n",
       "      <td>[3, 24, 25, 26, 27, 28, 29, 30, 31, 32, 33, 34...</td>\n",
       "    </tr>\n",
       "    <tr>\n",
       "      <th>2</th>\n",
       "      <td>6679940295825555980</td>\n",
       "      <td>0</td>\n",
       "      <td>文化</td>\n",
       "      <td>[37, 38, 39, 40, 7, 41, 26, 28, 28, 14]</td>\n",
       "    </tr>\n",
       "    <tr>\n",
       "      <th>3</th>\n",
       "      <td>6676963806968545799</td>\n",
       "      <td>0</td>\n",
       "      <td>文化</td>\n",
       "      <td>[42, 31, 43, 44, 45, 46, 47, 48, 49, 50, 51, 5...</td>\n",
       "    </tr>\n",
       "    <tr>\n",
       "      <th>4</th>\n",
       "      <td>6664825683656573448</td>\n",
       "      <td>0</td>\n",
       "      <td>文化</td>\n",
       "      <td>[29, 28, 28, 28, 30, 60, 61, 62, 47, 63, 30, 1...</td>\n",
       "    </tr>\n",
       "    <tr>\n",
       "      <th>...</th>\n",
       "      <td>...</td>\n",
       "      <td>...</td>\n",
       "      <td>...</td>\n",
       "      <td>...</td>\n",
       "    </tr>\n",
       "    <tr>\n",
       "      <th>56816</th>\n",
       "      <td>6691485644243337735</td>\n",
       "      <td>8</td>\n",
       "      <td>国际</td>\n",
       "      <td>[537, 2192, 753, 287, 303, 1116, 490, 1776, 70...</td>\n",
       "    </tr>\n",
       "    <tr>\n",
       "      <th>56817</th>\n",
       "      <td>6691479002646839822</td>\n",
       "      <td>8</td>\n",
       "      <td>国际</td>\n",
       "      <td>[518, 729, 735, 132, 157, 183, 39, 1122, 81, 1...</td>\n",
       "    </tr>\n",
       "    <tr>\n",
       "      <th>56818</th>\n",
       "      <td>6691483762988941835</td>\n",
       "      <td>8</td>\n",
       "      <td>国际</td>\n",
       "      <td>[55, 728, 807, 1297, 818, 906, 55, 183, 419, 9...</td>\n",
       "    </tr>\n",
       "    <tr>\n",
       "      <th>56819</th>\n",
       "      <td>6691481494600286727</td>\n",
       "      <td>8</td>\n",
       "      <td>国际</td>\n",
       "      <td>[157, 183, 61, 1490, 131, 112, 1292, 259, 2252...</td>\n",
       "    </tr>\n",
       "    <tr>\n",
       "      <th>56820</th>\n",
       "      <td>6691480635921400323</td>\n",
       "      <td>8</td>\n",
       "      <td>国际</td>\n",
       "      <td>[318, 705, 865, 62, 88, 994, 1372, 375, 308, 1...</td>\n",
       "    </tr>\n",
       "  </tbody>\n",
       "</table>\n",
       "<p>56821 rows × 4 columns</p>\n",
       "</div>"
      ],
      "text/plain": [
       "                        id class name  \\\n",
       "0      6660024717287621123     0   文化   \n",
       "1      6675222202004013572     0   文化   \n",
       "2      6679940295825555980     0   文化   \n",
       "3      6676963806968545799     0   文化   \n",
       "4      6664825683656573448     0   文化   \n",
       "...                    ...   ...  ...   \n",
       "56816  6691485644243337735     8   国际   \n",
       "56817  6691479002646839822     8   国际   \n",
       "56818  6691483762988941835     8   国际   \n",
       "56819  6691481494600286727     8   国际   \n",
       "56820  6691480635921400323     8   国际   \n",
       "\n",
       "                                                    text  \n",
       "0      [3, 4, 5, 6, 7, 8, 9, 10, 11, 12, 13, 14, 15, ...  \n",
       "1      [3, 24, 25, 26, 27, 28, 29, 30, 31, 32, 33, 34...  \n",
       "2                [37, 38, 39, 40, 7, 41, 26, 28, 28, 14]  \n",
       "3      [42, 31, 43, 44, 45, 46, 47, 48, 49, 50, 51, 5...  \n",
       "4      [29, 28, 28, 28, 30, 60, 61, 62, 47, 63, 30, 1...  \n",
       "...                                                  ...  \n",
       "56816  [537, 2192, 753, 287, 303, 1116, 490, 1776, 70...  \n",
       "56817  [518, 729, 735, 132, 157, 183, 39, 1122, 81, 1...  \n",
       "56818  [55, 728, 807, 1297, 818, 906, 55, 183, 419, 9...  \n",
       "56819  [157, 183, 61, 1490, 131, 112, 1292, 259, 2252...  \n",
       "56820  [318, 705, 865, 62, 88, 994, 1372, 375, 308, 1...  \n",
       "\n",
       "[56821 rows x 4 columns]"
      ]
     },
     "execution_count": 23,
     "metadata": {},
     "output_type": "execute_result"
    }
   ],
   "source": [
    "df"
   ]
  },
  {
   "cell_type": "code",
   "execution_count": 24,
   "metadata": {},
   "outputs": [],
   "source": [
    "import pickle\n",
    "f = open('char_df.pkl','wb')\n",
    "pickle.dump(df,f)\n",
    "f.close()\n",
    "f = open('char2idx.pkl','wb')\n",
    "pickle.dump(char2idx,f)\n",
    "f.close()\n",
    "f = open('idx2char.pkl','wb')\n",
    "pickle.dump(idx2char,f)\n",
    "f.close()"
   ]
  }
 ],
 "metadata": {
  "interpreter": {
   "hash": "0b44c525ca95e5dbf893da2282eb3ec3f420cb9fa59d94f9af90ca833dc1a37c"
  },
  "kernelspec": {
   "display_name": "Python 3.9.7 64-bit ('pytorch': conda)",
   "language": "python",
   "name": "python3"
  },
  "language_info": {
   "codemirror_mode": {
    "name": "ipython",
    "version": 3
   },
   "file_extension": ".py",
   "mimetype": "text/x-python",
   "name": "python",
   "nbconvert_exporter": "python",
   "pygments_lexer": "ipython3",
   "version": "3.9.7"
  },
  "orig_nbformat": 4
 },
 "nbformat": 4,
 "nbformat_minor": 2
}
